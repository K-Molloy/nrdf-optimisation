{
 "cells": [
  {
   "cell_type": "markdown",
   "metadata": {},
   "source": [
    "<h1>MiniZinc Data Generator</h1>\n",
    "<h2>Basic Train Optimisation Problem</h2>\n",
    "<h2>Kieran Molloy</h2>\n",
    "<h3>Problem Definition</h3>\n",
    "<h4>Input</h4>\n",
    "<p>Selecting one of the pre-defined data sets</p>\n",
    "<h4>Output</h4>\n",
    "<p>A full data set for minizinc to run</p>"
   ]
  },
  {
   "cell_type": "code",
   "execution_count": 44,
   "metadata": {},
   "outputs": [],
   "source": [
    "## Potential Data Sets\n",
    "\n",
    "# Route 1\n",
    "route1 = {\n",
    "    \"LIV\":\"17:55\",\n",
    "    \"EDG\":\"17:59\",\n",
    "    \"MSH\":\"18:04\",\n",
    "    \"WSA\":\"18:07\",\n",
    "    \"LPY\":\"18:10\",\n",
    "    \"HNX\":\"18:13\",\n",
    "    \"HED\":\"18:16\",\n",
    "    \"HGN\":\"18:20\",\n",
    "    \"WID\":\"18:24\",\n",
    "    \"SNK\":\"18:27\",\n",
    "    \"WAW\":\"18:30\",\n",
    "    \"WAC\":\"18:34\",\n",
    "    \"BWD\":\"18:39\",\n",
    "    \"IRL\":\"18:45\",\n",
    "    \"URM\":\"18:51\",\n",
    "    \"MCO\":\"19:02\",\n",
    "}\n",
    "# Route 2\n",
    "route1 = {\n",
    "    \"LIV\":\"17:55\",\n",
    "    \"EDG\":\"17:59\",\n",
    "    \"MSH\":\"18:04\",\n",
    "    \"WSA\":\"18:07\",\n",
    "    \"LPY\":\"18:10\",\n",
    "    \"HNX\":\"18:13\",\n",
    "    \"HED\":\"18:16\",\n",
    "    \"HGN\":\"18:20\",\n",
    "    \"WID\":\"18:24\",\n",
    "    \"SNK\":\"18:27\",\n",
    "    \"WAW\":\"18:30\",\n",
    "    \"WAC\":\"18:34\",\n",
    "    \"BWD\":\"18:39\",\n",
    "    \"IRL\":\"18:45\",\n",
    "    \"URM\":\"18:51\",\n",
    "    \"MCO\":\"19:02\",\n",
    "}\n"
   ]
  },
  {
   "cell_type": "code",
   "execution_count": 45,
   "metadata": {},
   "outputs": [
    {
     "name": "stdout",
     "output_type": "stream",
     "text": [
      "relativedelta()\n",
      "relativedelta(minutes=+4)\n",
      "relativedelta(minutes=+9)\n",
      "relativedelta(minutes=+12)\n",
      "relativedelta(minutes=+15)\n",
      "relativedelta(minutes=+18)\n",
      "relativedelta(minutes=+21)\n",
      "relativedelta(minutes=+25)\n",
      "relativedelta(minutes=+29)\n",
      "relativedelta(minutes=+32)\n",
      "relativedelta(minutes=+35)\n",
      "relativedelta(minutes=+39)\n",
      "relativedelta(minutes=+44)\n",
      "relativedelta(minutes=+50)\n",
      "relativedelta(minutes=+56)\n",
      "relativedelta(hours=+1, minutes=+7)\n",
      "n = 1;\n",
      "m = 16;\n",
      "maxTime = 120;\n",
      "delayTime = 1;\n",
      "delayTrain = 5;\n",
      "delayDuration = 5;\n"
     ]
    }
   ],
   "source": [
    "import numpy as np \n",
    "from datetime import datetime\n",
    "from dateutil import relativedelta\n",
    "\n",
    "# Select a data set\n",
    "workingDataSet = route1\n",
    "\n",
    "numberOfTrains=1\n",
    "delay={\n",
    "    'time':'1',\n",
    "    'train':'5',\n",
    "    'duration':'5'\n",
    "}\n",
    "dwell=1\n",
    "maxSimulationTime=120\n",
    "\n",
    "\n",
    "# Normalise to t=0\n",
    "normalised = normaliseT0(workingDataSet)\n",
    "\n",
    "# Print MiniZinc Data File\n",
    "printDataSet(numberOfTrains,normalised,maxSimulationTime,dwell,delay)\n"
   ]
  },
  {
   "cell_type": "code",
   "execution_count": 43,
   "metadata": {},
   "outputs": [],
   "source": [
    "def normaliseT0(stations):\n",
    "    \n",
    "    # Copy Array\n",
    "    timeObjectDict=stations\n",
    "    \n",
    "    # Replacing Time String with Datetime.time object\n",
    "    for station in stations:\n",
    "        actualTime=stations[station]\n",
    "        time_object = datetime.strptime(actualTime, '%H:%M')\n",
    "        #print(time_object)\n",
    "        timeObjectDict[station]=time_object\n",
    "        \n",
    "    # Normalise on Stations[0]\n",
    "    baselineTime=timeObjectDict['LIV']\n",
    "    normTimes=stations \n",
    "        \n",
    "    for station in stations:\n",
    "        actualTime=timeObjectDict[station]\n",
    "        time_delta = relativedelta.relativedelta(actualTime,baselineTime)\n",
    "        print(time_delta)\n",
    "        normTimes[station]=time_delta\n",
    "        \n",
    "    return normTimes\n",
    "\n",
    "\n",
    "def printDataSet(n,times,maxTime,dwell,delay):\n",
    "    \n",
    "    print('n = {0};'.format(n))\n",
    "    print('m = {0};'.format(len(times)))\n",
    "    print('maxTime = {0};'.format(maxTime))\n",
    "    print('delayTime = {};'.format(delay['time']))\n",
    "    print('delayTrain = {};'.format(delay['train']))\n",
    "    print('delayDuration = {};'.format(delay['duration']))\n",
    "    \n",
    "    "
   ]
  },
  {
   "cell_type": "code",
   "execution_count": 57,
   "metadata": {},
   "outputs": [
    {
     "name": "stdout",
     "output_type": "stream",
     "text": [
      "| 0, 4, 9, 12, 15, 18, 21, 25, 29, 32, 35, 39, 44, 50, 56, 67, | 60, 64, 69, 72, 75, 78, 81, 85, 89, 92, 95, 99, 104, 110, 116, 127, | 120, 124, 129, 132, 135, 138, 141, 145, 149, 152, 155, 159, 164, 170, 176, 187, | 180, 184, 189, 192, 195, 198, 201, 205, 209, 212, 215, 219, 224, 230, 236, 247, | 240, 244, 249, 252, 255, 258, 261, 265, 269, 272, 275, 279, 284, 290, 296, 307, | 300, 304, 309, 312, 315, 318, 321, 325, 329, 332, 335, 339, 344, 350, 356, 367, | 360, 364, 369, 372, 375, 378, 381, 385, 389, 392, 395, 399, 404, 410, 416, 427, | 420, 424, 429, 432, 435, 438, 441, 445, 449, 452, 455, 459, 464, 470, 476, 487, "
     ]
    }
   ],
   "source": [
    "\n",
    "arrival=[0,4,9,12,15,18,21,25,29,32,35,39,44,50,56,67]\n",
    "arrivalTimes = np.array(arrival)\n",
    "departureTimes = arrivalTimes+1\n",
    "\n",
    "n=8\n",
    "\n",
    "arrivalTimes = np.array(arrival)\n",
    "\n",
    "\n",
    "for i in range(n):\n",
    "    print('|', end =\" \")\n",
    "    for station in arrivalTimes:\n",
    "        myorder = \"{0},\"\n",
    "        print(myorder.format(station), end =\" \")\n",
    "    arrivalTimes=arrivalTimes+60\n"
   ]
  },
  {
   "cell_type": "code",
   "execution_count": 58,
   "metadata": {},
   "outputs": [
    {
     "name": "stdout",
     "output_type": "stream",
     "text": [
      "| 1, 5, 10, 13, 16, 19, 22, 26, 30, 33, 36, 40, 45, 51, 57, 68, | 61, 65, 70, 73, 76, 79, 82, 86, 90, 93, 96, 100, 105, 111, 117, 128, | 121, 125, 130, 133, 136, 139, 142, 146, 150, 153, 156, 160, 165, 171, 177, 188, | 181, 185, 190, 193, 196, 199, 202, 206, 210, 213, 216, 220, 225, 231, 237, 248, | 241, 245, 250, 253, 256, 259, 262, 266, 270, 273, 276, 280, 285, 291, 297, 308, | 301, 305, 310, 313, 316, 319, 322, 326, 330, 333, 336, 340, 345, 351, 357, 368, | 361, 365, 370, 373, 376, 379, 382, 386, 390, 393, 396, 400, 405, 411, 417, 428, | 421, 425, 430, 433, 436, 439, 442, 446, 450, 453, 456, 460, 465, 471, 477, 488, "
     ]
    }
   ],
   "source": [
    "for i in range(n):\n",
    "    print('|', end =\" \")\n",
    "    for station in departureTimes:\n",
    "        myorder = \"{0},\"\n",
    "        print(myorder.format(station), end =\" \")\n",
    "    departureTimes=departureTimes+60\n",
    "        "
   ]
  },
  {
   "cell_type": "code",
   "execution_count": 64,
   "metadata": {},
   "outputs": [
    {
     "name": "stdout",
     "output_type": "stream",
     "text": [
      "[15, 19, 4, 7, 10, 13, 16, 20, 24, 27, 30, 34, 39, 45, 51, 42]\n",
      "Distances\n",
      "2108,  1577,  1899,  3122,  225,  3170,  1931,  2977,  1818,  4634,  1641,  17477,  1609,  4683,  1013,  Times\n",
      "1740, \n",
      "1744, \n",
      "1789, \n",
      "1792, \n",
      "1795, \n",
      "1798, \n",
      "1801, \n",
      "1805, \n",
      "1809, \n",
      "1812, \n",
      "1815, \n",
      "1819, \n",
      "1824, \n",
      "1830, \n",
      "1836, \n",
      "1887, \n"
     ]
    }
   ],
   "source": [
    "# Liverpool to Manchester North\n",
    "mileage=[0, 1.31, 2.29, 3.47, 5.41, 5.55, 7.52, 8.72, 10.57, 11.70, 14.58, 15.60, 26.46, 27.46, 30.37, 31.0]\n",
    "calling=[1755, 1759, 1804, 1807, 1810, 1813, 1816, 1820, 1824, 1827, 1830, 1834, 1839, 1845, 1851, 1902]\n",
    "\n",
    "# Liverpool to Manchester South\n",
    "#mileage=[0, 1.31, 3.03, 3.89, 5.75, 7.07, 8.15, 10.42, 12.20, 15.87, 18.30, 20.13, 21.44, 24.37, 25.51, 27.65, 28.40, 29.62, 30.17, 30.68, 33.67, 33.95]\n",
    "miles=np.array(mileage)\n",
    "\n",
    "# Convert to KM\n",
    "miles=miles*1.60934*1000\n",
    "\n",
    "\n",
    "# Make Relative\n",
    "miles=makeRelative(miles)\n",
    "\n",
    "calls=normaliseTime(0,calling)\n",
    "\n",
    "\n",
    "print('Distances')\n",
    "for i in miles:\n",
    "    myorder = \"{0}, \"\n",
    "    print(myorder.format(i), end=\" \")\n",
    "    \n",
    "print('Times')\n",
    "for i in calls:\n",
    "    myorder = \"{0}, \"\n",
    "    print(myorder.format(i))"
   ]
  },
  {
   "cell_type": "code",
   "execution_count": 62,
   "metadata": {},
   "outputs": [],
   "source": [
    "def makeRelative(info):\n",
    "    # Given an array of n items, returns relative n-1 items\n",
    "    relativeInfo=[]\n",
    "    \n",
    "    #print(range(len(info)))\n",
    "    \n",
    "    for i in range(len(info)-1):\n",
    "        #print(i)\n",
    "        relativeInfo.append(int(info[i+1]-info[i]))\n",
    "        \n",
    "        \n",
    "    return relativeInfo\n",
    "        \n",
    "    \n",
    "def normaliseTime(normT, times):\n",
    "    # Given an array of times, normalises to t\n",
    "    \n",
    "    # Define new array\n",
    "    newTimes=[]\n",
    "    \n",
    "    for i in times:\n",
    "        newTimes.append(i%60)\n",
    "        \n",
    "    print(newTimes)\n",
    "    \n",
    "    normTimes=np.array(newTimes)\n",
    "    # Find Initial Departure Time\n",
    "    baseT=normTimes[0]\n",
    "    \n",
    "    # Normalise to t=0\n",
    "    normTimes=times-baseT\n",
    "    \n",
    "    # Normalise to t=normT\n",
    "    normTimes+=normT\n",
    "    \n",
    "    return normTimes\n",
    "    "
   ]
  },
  {
   "cell_type": "code",
   "execution_count": null,
   "metadata": {},
   "outputs": [],
   "source": []
  }
 ],
 "metadata": {
  "kernelspec": {
   "display_name": "Python 3",
   "language": "python",
   "name": "python3"
  },
  "language_info": {
   "codemirror_mode": {
    "name": "ipython",
    "version": 3
   },
   "file_extension": ".py",
   "mimetype": "text/x-python",
   "name": "python",
   "nbconvert_exporter": "python",
   "pygments_lexer": "ipython3",
   "version": "3.7.5"
  }
 },
 "nbformat": 4,
 "nbformat_minor": 2
}
