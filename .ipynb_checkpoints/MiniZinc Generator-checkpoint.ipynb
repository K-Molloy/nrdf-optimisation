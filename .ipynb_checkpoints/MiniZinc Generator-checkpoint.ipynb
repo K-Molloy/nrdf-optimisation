{
 "cells": [
  {
   "cell_type": "code",
   "execution_count": 17,
   "metadata": {},
   "outputs": [
    {
     "name": "stdout",
     "output_type": "stream",
     "text": [
      "|0, 5, 13, 21, 29, 36, 43, 50, 57, 64,\n",
      "|10, 15, 23, 31, 39, 46, 53, 60, 67, 74,\n",
      "|20, 25, 33, 41, 49, 56, 63, 70, 77, 84,\n",
      "|30, 35, 43, 51, 59, 66, 73, 80, 87, 94,\n",
      "|40, 45, 53, 61, 69, 76, 83, 90, 97, 104,\n",
      "|50, 55, 63, 71, 79, 86, 93, 100, 107, 114,\n",
      "|60, 65, 73, 81, 89, 96, 103, 110, 117, 124,\n",
      "|70, 75, 83, 91, 99, 106, 113, 120, 127, 134,\n",
      "|80, 85, 93, 101, 109, 116, 123, 130, 137, 144,\n",
      "|90, 95, 103, 111, 119, 126, 133, 140, 147, 154,\n"
     ]
    }
   ],
   "source": [
    "import numpy as np \n",
    "\n",
    "arrival=[0,5,13,21,29,36,43,50,57,64]\n",
    "departure=[0,8,16,24,32,39,46,53,60,67]\n",
    "\n",
    "n=10\n",
    "\n",
    "arrivalTimes = np.array(arrival)\n",
    "\n",
    "for i in range(n):\n",
    "    myorder = \"|{0}, {1}, {2}, {3}, {4}, {5}, {6}, {7}, {8}, {9},\"\n",
    "    print(myorder.format(arrivalTimes[0],arrivalTimes[1],arrivalTimes[2],arrivalTimes[3],arrivalTimes[4],arrivalTimes[5],arrivalTimes[6],arrivalTimes[7],arrivalTimes[8],arrivalTimes[9]))\n",
    "    arrivalTimes=arrivalTimes+10\n"
   ]
  },
  {
   "cell_type": "code",
   "execution_count": 18,
   "metadata": {},
   "outputs": [
    {
     "name": "stdout",
     "output_type": "stream",
     "text": [
      "|0, 8, 16, 24, 32, 39, 46, 53, 60, 67,\n",
      "|10, 18, 26, 34, 42, 49, 56, 63, 70, 77,\n",
      "|20, 28, 36, 44, 52, 59, 66, 73, 80, 87,\n",
      "|30, 38, 46, 54, 62, 69, 76, 83, 90, 97,\n",
      "|40, 48, 56, 64, 72, 79, 86, 93, 100, 107,\n",
      "|50, 58, 66, 74, 82, 89, 96, 103, 110, 117,\n",
      "|60, 68, 76, 84, 92, 99, 106, 113, 120, 127,\n",
      "|70, 78, 86, 94, 102, 109, 116, 123, 130, 137,\n",
      "|80, 88, 96, 104, 112, 119, 126, 133, 140, 147,\n",
      "|90, 98, 106, 114, 122, 129, 136, 143, 150, 157,\n"
     ]
    }
   ],
   "source": [
    "departureTimes = np.array(departure)\n",
    "\n",
    "for i in range(n):\n",
    "    myorder = \"|{0}, {1}, {2}, {3}, {4}, {5}, {6}, {7}, {8}, {9},\"\n",
    "    print(myorder.format(departureTimes[0],departureTimes[1],departureTimes[2],departureTimes[3],departureTimes[4],departureTimes[5],departureTimes[6],departureTimes[7],departureTimes[8],departureTimes[9]))\n",
    "    departureTimes=departureTimes+10"
   ]
  },
  {
   "cell_type": "code",
   "execution_count": 47,
   "metadata": {},
   "outputs": [
    {
     "name": "stdout",
     "output_type": "stream",
     "text": [
      "range(0, 16)\n"
     ]
    },
    {
     "ename": "IndexError",
     "evalue": "list assignment index out of range",
     "output_type": "error",
     "traceback": [
      "\u001b[0;31m---------------------------------------------------------------------------\u001b[0m",
      "\u001b[0;31mIndexError\u001b[0m                                Traceback (most recent call last)",
      "\u001b[0;32m<ipython-input-47-32d7bdd4ecdb>\u001b[0m in \u001b[0;36m<module>\u001b[0;34m()\u001b[0m\n\u001b[1;32m      9\u001b[0m \u001b[0mmiles\u001b[0m\u001b[0;34m=\u001b[0m\u001b[0mmiles\u001b[0m\u001b[0;34m*\u001b[0m\u001b[0;36m1.60934\u001b[0m\u001b[0;34m\u001b[0m\u001b[0;34m\u001b[0m\u001b[0m\n\u001b[1;32m     10\u001b[0m \u001b[0;31m# Make Relative\u001b[0m\u001b[0;34m\u001b[0m\u001b[0;34m\u001b[0m\u001b[0;34m\u001b[0m\u001b[0m\n\u001b[0;32m---> 11\u001b[0;31m \u001b[0mmiles\u001b[0m\u001b[0;34m=\u001b[0m\u001b[0mmakeRelative\u001b[0m\u001b[0;34m(\u001b[0m\u001b[0mmiles\u001b[0m\u001b[0;34m)\u001b[0m\u001b[0;34m\u001b[0m\u001b[0;34m\u001b[0m\u001b[0m\n\u001b[0m\u001b[1;32m     12\u001b[0m \u001b[0;34m\u001b[0m\u001b[0m\n\u001b[1;32m     13\u001b[0m \u001b[0;32mfor\u001b[0m \u001b[0mi\u001b[0m \u001b[0;32min\u001b[0m \u001b[0mmiles\u001b[0m\u001b[0;34m:\u001b[0m\u001b[0;34m\u001b[0m\u001b[0;34m\u001b[0m\u001b[0m\n",
      "\u001b[0;32m<ipython-input-46-33469ccfce2b>\u001b[0m in \u001b[0;36mmakeRelative\u001b[0;34m(info)\u001b[0m\n\u001b[1;32m      6\u001b[0m \u001b[0;34m\u001b[0m\u001b[0m\n\u001b[1;32m      7\u001b[0m     \u001b[0;32mfor\u001b[0m \u001b[0mi\u001b[0m \u001b[0;32min\u001b[0m \u001b[0mrange\u001b[0m\u001b[0;34m(\u001b[0m\u001b[0mlen\u001b[0m\u001b[0;34m(\u001b[0m\u001b[0minfo\u001b[0m\u001b[0;34m)\u001b[0m\u001b[0;34m)\u001b[0m\u001b[0;34m:\u001b[0m\u001b[0;34m\u001b[0m\u001b[0;34m\u001b[0m\u001b[0m\n\u001b[0;32m----> 8\u001b[0;31m         \u001b[0mrelativeInfo\u001b[0m\u001b[0;34m[\u001b[0m\u001b[0mi\u001b[0m\u001b[0;34m]\u001b[0m\u001b[0;34m=\u001b[0m\u001b[0minfo\u001b[0m\u001b[0;34m[\u001b[0m\u001b[0mi\u001b[0m\u001b[0;34m+\u001b[0m\u001b[0;36m1\u001b[0m\u001b[0;34m]\u001b[0m\u001b[0;34m-\u001b[0m\u001b[0minfo\u001b[0m\u001b[0;34m[\u001b[0m\u001b[0mi\u001b[0m\u001b[0;34m]\u001b[0m\u001b[0;34m\u001b[0m\u001b[0;34m\u001b[0m\u001b[0m\n\u001b[0m\u001b[1;32m      9\u001b[0m         \u001b[0mprint\u001b[0m\u001b[0;34m(\u001b[0m\u001b[0mi\u001b[0m\u001b[0;34m)\u001b[0m\u001b[0;34m\u001b[0m\u001b[0;34m\u001b[0m\u001b[0m\n\u001b[1;32m     10\u001b[0m \u001b[0;34m\u001b[0m\u001b[0m\n",
      "\u001b[0;31mIndexError\u001b[0m: list assignment index out of range"
     ]
    }
   ],
   "source": [
    "# Liverpool to Manchester North\n",
    "mileage=[0, 1.31, 2.29, 3.47, 5.41, 5.55, 7.52, 8.72, 10.57, 11.70, 14.58, 15.60, 26.46, 27.46, 30.37, 31.0]\n",
    "calling=[1755, 1759, 1804, 1807, 1810, 1813, 1816, 1820, 1824, 1827, 1830, 1834, 1839, 1845, 1851, 1902]\n",
    "# Liverpool to Manchester South\n",
    "#mileage=[0, 1.31, 3.03, 3.89, 5.75, 7.07, 8.15, 10.42, 12.20, 15.87, 18.30, 20.13, 21.44, 24.37, 25.51, 27.65, 28.40, 29.62, 30.17, 30.68, 33.67, 33.95]\n",
    "miles=np.array(mileage)\n",
    "\n",
    "# Convert to KM\n",
    "miles=miles*1.60934\n",
    "# Make Relative\n",
    "miles=makeRelative(miles)\n",
    "\n",
    "for i in miles:\n",
    "    myorder = \"{0}, \"\n",
    "    print(myorder.format(i))"
   ]
  },
  {
   "cell_type": "code",
   "execution_count": 46,
   "metadata": {},
   "outputs": [],
   "source": [
    "def makeRelative(info):\n",
    "    # Given an array of n items, returns relative n-1 items\n",
    "    relativeInfo=[]\n",
    "    \n",
    "    print(range(len(info)))\n",
    "    \n",
    "    for i in range(len(info)):\n",
    "        relativeInfo[i]=info[i+1]-info[i]\n",
    "        print(i)\n",
    "        \n",
    "    return relativeInfo\n",
    "        "
   ]
  },
  {
   "cell_type": "code",
   "execution_count": null,
   "metadata": {},
   "outputs": [],
   "source": []
  }
 ],
 "metadata": {
  "kernelspec": {
   "display_name": "Python 3",
   "language": "python",
   "name": "python3"
  },
  "language_info": {
   "codemirror_mode": {
    "name": "ipython",
    "version": 3
   },
   "file_extension": ".py",
   "mimetype": "text/x-python",
   "name": "python",
   "nbconvert_exporter": "python",
   "pygments_lexer": "ipython3",
   "version": "3.7.5"
  }
 },
 "nbformat": 4,
 "nbformat_minor": 2
}
