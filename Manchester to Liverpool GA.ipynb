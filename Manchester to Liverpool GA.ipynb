{
 "cells": [
  {
   "cell_type": "code",
   "execution_count": 32,
   "metadata": {},
   "outputs": [
    {
     "name": "stdout",
     "output_type": "stream",
     "text": [
      "TPE\n",
      "Manchester to Liverpool Route 1\n",
      "Train 8\n"
     ]
    }
   ],
   "source": [
    "# NRDF Project\n",
    "# Kieran Molloy\n",
    "\n",
    "testString=\"0100000001000100\"\n",
    "decodeGA(testString)\n",
    "\n",
    "\n"
   ]
  },
  {
   "cell_type": "code",
   "execution_count": 31,
   "metadata": {},
   "outputs": [],
   "source": [
    "def decodeGA(encodedSolution):\n",
    "    # Decode GA Problem as defined here###\n",
    "    \n",
    "    # Example\n",
    "    # 00|00000000|000000|OOOOOOOO|11111111|22222222|33333333|DDDDDDDD\n",
    "    # TOC|Line|RollingStock|Origin|Stop1|Stop2|Stop3|Destination\n",
    "    \n",
    "    # Deconstruct Solution String into Elements\n",
    "    bitOperator=encodedSolution[0:2]\n",
    "    bitLine=encodedSolution[2:10]\n",
    "    bitRollingStock=encodedSolution[10:16]\n",
    "    bitOrigin=encodedSolution[16:24]\n",
    "    bitStations=encodedSolution[24:-8]\n",
    "    bitDestination=encodedSolution[-8:]\n",
    "    \n",
    "    toc=decodeOperator(bitOperator)\n",
    "    line=decodeLine(bitLine)\n",
    "    unit=decodeRollingStock(bitRollingStock,toc)\n",
    "    \n",
    "    print(toc)\n",
    "    print(line)\n",
    "    print(unit)\n",
    "\n"
   ]
  },
  {
   "cell_type": "code",
   "execution_count": 22,
   "metadata": {},
   "outputs": [],
   "source": [
    "def decodeOperator(encodedOperator):\n",
    "    # Decode Operator as defined here###\n",
    "    \n",
    "    tocs={\n",
    "            '00':'Northern',\n",
    "            '01':'TPE',\n",
    "            '10':'TFW',\n",
    "            '11':'EMR',\n",
    "        }\n",
    "    return tocs.get(encodedOperator,\"Invalid Operator\")"
   ]
  },
  {
   "cell_type": "code",
   "execution_count": 23,
   "metadata": {},
   "outputs": [],
   "source": [
    "def decodeLine(encodedLine):\n",
    "    # Decode Operator as defined here###\n",
    "    \n",
    "    lines={\n",
    "            '00000000':'Test Route',\n",
    "            '00000001':'Manchester to Liverpool Route 1',\n",
    "            '00000010':'Manchester to Liverpool Route 2',\n",
    "            '00000011':'Liverpool to Manchester Route 1',\n",
    "            '00000100':'Liverpool to Manchester Route 2',\n",
    "        }\n",
    "    return lines.get(encodedLine,\"Invalid Line\")"
   ]
  },
  {
   "cell_type": "code",
   "execution_count": 24,
   "metadata": {},
   "outputs": [],
   "source": [
    "def decodeRollingStock(encodedRollingStock,operator):\n",
    "    # Decode Operator as defined here###\n",
    "    \n",
    "    if operator=='Northern':\n",
    "        # if Northern was the TOC previously decoded\n",
    "        rollingStock={\n",
    "                '000000':'Test Stock',\n",
    "                '000001':'Train 1',\n",
    "                '000010':'Train 2',\n",
    "                '000011':'Train 3',\n",
    "                '000100':'Train 4',\n",
    "            }\n",
    "    elif operator=='TPE':\n",
    "        # if transpennine express\n",
    "            rollingStock={\n",
    "                '000000':'Test Stock',\n",
    "                '000001':'Train 5',\n",
    "                '000010':'Train 6',\n",
    "                '000011':'Train 7',\n",
    "                '000100':'Train 8',\n",
    "            }\n",
    "    elif operator=='TFW':\n",
    "        # if transport for wales\n",
    "            rollingStock={\n",
    "                '000000':'Test Stock',\n",
    "                '000001':'Train 9',\n",
    "                '000010':'Train 10',\n",
    "                '000011':'Train 11',\n",
    "                '000100':'Train 12',\n",
    "            }\n",
    "    elif operator=='EMR':\n",
    "        # if east midlands regional\n",
    "            rollingStock={\n",
    "                '000000':'Test Stock',\n",
    "                '000001':'Train 13',\n",
    "                '000010':'Train 14',\n",
    "                '000011':'Train 15',\n",
    "                '000100':'Train 16',\n",
    "            }\n",
    "    return rollingStock.get(encodedRollingStock,\"Invalid Rolling Stock & Operator Combination\")"
   ]
  },
  {
   "cell_type": "code",
   "execution_count": null,
   "metadata": {},
   "outputs": [],
   "source": [
    "def decodeStation(encodedStation):\n",
    "    # Decode Station as defined here###\n",
    "    \n",
    "    stations={\n",
    "        '00000000':'Test Station',\n",
    "        '00000001':'Station A',\n",
    "        '00000010':'Station B',\n",
    "        '00000011':'Station C',\n",
    "        '00000100':'Station D',\n",
    "        '00000101':'Station E',\n",
    "        '00000110':'Station F',\n",
    "        '00000111':'Test 1',\n",
    "        '00001000':'Test 2',\n",
    "        '00001001':'Test 3',\n",
    "        '00001010':'Test 4',\n",
    "        '00001011':'Test 5',\n",
    "    }\n",
    "    return stations.get(encodedStaion,\"Invalid Station\")"
   ]
  },
  {
   "cell_type": "code",
   "execution_count": null,
   "metadata": {},
   "outputs": [],
   "source": []
  },
  {
   "cell_type": "code",
   "execution_count": null,
   "metadata": {},
   "outputs": [],
   "source": []
  },
  {
   "cell_type": "code",
   "execution_count": null,
   "metadata": {},
   "outputs": [],
   "source": []
  }
 ],
 "metadata": {
  "kernelspec": {
   "display_name": "Python 3",
   "language": "python",
   "name": "python3"
  },
  "language_info": {
   "codemirror_mode": {
    "name": "ipython",
    "version": 3
   },
   "file_extension": ".py",
   "mimetype": "text/x-python",
   "name": "python",
   "nbconvert_exporter": "python",
   "pygments_lexer": "ipython3",
   "version": "3.7.5"
  }
 },
 "nbformat": 4,
 "nbformat_minor": 2
}
